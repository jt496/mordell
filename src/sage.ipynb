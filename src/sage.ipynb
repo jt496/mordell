{
 "cells": [
  {
   "cell_type": "code",
   "execution_count": 1,
   "id": "21bb5e74",
   "metadata": {},
   "outputs": [],
   "source": [
    "k.<a> = QuadraticField(2)"
   ]
  },
  {
   "cell_type": "code",
   "execution_count": 2,
   "id": "baea7db7",
   "metadata": {},
   "outputs": [
    {
     "data": {
      "text/plain": [
       "a + 1"
      ]
     },
     "execution_count": 2,
     "metadata": {},
     "output_type": "execute_result"
    }
   ],
   "source": [
    "k.units()[0]"
   ]
  },
  {
   "cell_type": "code",
   "execution_count": 3,
   "id": "0dc66656",
   "metadata": {},
   "outputs": [
    {
     "data": {
      "text/plain": [
       "(x, y)"
      ]
     },
     "execution_count": 3,
     "metadata": {},
     "output_type": "execute_result"
    }
   ],
   "source": [
    "var( 'x y')"
   ]
  },
  {
   "cell_type": "code",
   "execution_count": 11,
   "id": "efd64512",
   "metadata": {},
   "outputs": [
    {
     "data": {
      "text/plain": [
       "x^3 + 3*x^2*y + 6*x*y^2 + 2*y^3"
      ]
     },
     "execution_count": 11,
     "metadata": {},
     "output_type": "execute_result"
    }
   ],
   "source": [
    "((a+1)*(x+a*y)^3).expand().coefficient(a)"
   ]
  },
  {
   "cell_type": "code",
   "execution_count": 14,
   "id": "dd93145c",
   "metadata": {},
   "outputs": [],
   "source": [
    "g = ((a+1)*(x+a)^3).expand().coefficient(a)\n"
   ]
  },
  {
   "cell_type": "code",
   "execution_count": 15,
   "id": "086846dc",
   "metadata": {},
   "outputs": [
    {
     "data": {
      "text/plain": [
       "x^3 + 3*x^2 + 6*x + 2"
      ]
     },
     "execution_count": 15,
     "metadata": {},
     "output_type": "execute_result"
    }
   ],
   "source": [
    "g"
   ]
  },
  {
   "cell_type": "code",
   "execution_count": 16,
   "id": "df1f7941",
   "metadata": {},
   "outputs": [],
   "source": [
    "L.<alpha> = NumberField(g)"
   ]
  },
  {
   "cell_type": "code",
   "execution_count": 17,
   "id": "d3fe080d",
   "metadata": {},
   "outputs": [
    {
     "data": {
      "text/plain": [
       "[1, alpha, alpha^2]"
      ]
     },
     "execution_count": 17,
     "metadata": {},
     "output_type": "execute_result"
    }
   ],
   "source": [
    "L.integral_basis()"
   ]
  },
  {
   "cell_type": "code",
   "execution_count": 21,
   "id": "39837019",
   "metadata": {},
   "outputs": [
    {
     "data": {
      "text/plain": [
       "-alpha^2 - 3*alpha - 1"
      ]
     },
     "execution_count": 21,
     "metadata": {},
     "output_type": "execute_result"
    }
   ],
   "source": [
    "u = L.units()[0]\n",
    "u"
   ]
  },
  {
   "cell_type": "code",
   "execution_count": 22,
   "id": "d54dc7c0",
   "metadata": {},
   "outputs": [
    {
     "data": {
      "text/plain": [
       "1"
      ]
     },
     "execution_count": 22,
     "metadata": {},
     "output_type": "execute_result"
    }
   ],
   "source": [
    "u.norm()"
   ]
  },
  {
   "cell_type": "code",
   "execution_count": 37,
   "id": "65c13a52",
   "metadata": {},
   "outputs": [
    {
     "name": "stdout",
     "output_type": "stream",
     "text": [
      "-alpha^2 - 3*alpha - 1\n",
      "-4*alpha^2 - 14*alpha - 5\n",
      "-15*alpha^2 - 63*alpha - 23\n"
     ]
    }
   ],
   "source": [
    "for n in range(1,4):\n",
    "    print(u^n)"
   ]
  },
  {
   "cell_type": "code",
   "execution_count": 35,
   "id": "a17755cd",
   "metadata": {},
   "outputs": [
    {
     "data": {
      "text/plain": [
       "-13*alpha^2 - 69*alpha - 26"
      ]
     },
     "execution_count": 35,
     "metadata": {},
     "output_type": "execute_result"
    }
   ],
   "source": [
    "(u^4-1)/4"
   ]
  },
  {
   "cell_type": "code",
   "execution_count": 41,
   "id": "38b65618",
   "metadata": {},
   "outputs": [
    {
     "name": "stdout",
     "output_type": "stream",
     "text": [
      "0 0\n",
      "1 7\n",
      "2 4\n",
      "3 1\n",
      "4 4\n",
      "5 3\n",
      "6 0\n",
      "7 5\n"
     ]
    }
   ],
   "source": [
    "for n in range(8):\n",
    "    print(n, (u^n)[2] % 8)"
   ]
  },
  {
   "cell_type": "code",
   "execution_count": 32,
   "id": "3ad93077",
   "metadata": {},
   "outputs": [
    {
     "data": {
      "text/plain": [
       "1111*alpha^2 - 9013*alpha - 3822"
      ]
     },
     "execution_count": 32,
     "metadata": {},
     "output_type": "execute_result"
    }
   ],
   "source": [
    "(u^8-1)/8"
   ]
  },
  {
   "cell_type": "code",
   "execution_count": 45,
   "id": "2b418ecf",
   "metadata": {},
   "outputs": [
    {
     "name": "stdout",
     "output_type": "stream",
     "text": [
      "0 0\n",
      "1 31\n",
      "2 28\n",
      "3 17\n",
      "4 12\n",
      "5 3\n",
      "6 16\n",
      "7 29\n",
      "8 24\n",
      "9 7\n",
      "10 4\n",
      "11 9\n",
      "12 4\n",
      "13 11\n",
      "14 24\n",
      "15 21\n",
      "16 16\n",
      "17 15\n",
      "18 12\n",
      "19 1\n",
      "20 28\n",
      "21 19\n",
      "22 0\n",
      "23 13\n",
      "24 8\n",
      "25 23\n",
      "26 20\n",
      "27 25\n",
      "28 20\n",
      "29 27\n",
      "30 8\n",
      "31 5\n"
     ]
    }
   ],
   "source": [
    "for n in range(32):\n",
    "    print(n, (u^n)[2] % 32)"
   ]
  },
  {
   "cell_type": "code",
   "execution_count": 33,
   "id": "8460cafc",
   "metadata": {},
   "outputs": [
    {
     "data": {
      "text/plain": [
       "546102335*alpha^2 + 835214283*alpha + 248265706"
      ]
     },
     "execution_count": 33,
     "metadata": {},
     "output_type": "execute_result"
    }
   ],
   "source": [
    "(u^16-1)/16"
   ]
  },
  {
   "cell_type": "code",
   "execution_count": 34,
   "id": "ad27e29a",
   "metadata": {},
   "outputs": [
    {
     "data": {
      "text/plain": [
       "-6986013424504274033*alpha^2 - 2295962800124917429*alpha + 212420334998574234"
      ]
     },
     "execution_count": 34,
     "metadata": {},
     "output_type": "execute_result"
    }
   ],
   "source": [
    "(u^32-1)/32"
   ]
  },
  {
   "cell_type": "code",
   "execution_count": 43,
   "id": "3b314de8",
   "metadata": {},
   "outputs": [
    {
     "data": {
      "text/plain": [
       "-336*alpha^2 - 4842*alpha - 1901"
      ]
     },
     "execution_count": 43,
     "metadata": {},
     "output_type": "execute_result"
    }
   ],
   "source": [
    "u^6"
   ]
  },
  {
   "cell_type": "code",
   "execution_count": 44,
   "id": "05f665fe",
   "metadata": {},
   "outputs": [
    {
     "data": {
      "text/plain": [
       "2^4 * 3 * 7"
      ]
     },
     "execution_count": 44,
     "metadata": {},
     "output_type": "execute_result"
    }
   ],
   "source": [
    "factor(336)"
   ]
  },
  {
   "cell_type": "code",
   "execution_count": 46,
   "id": "ad33c9ed",
   "metadata": {},
   "outputs": [
    {
     "data": {
      "text/plain": [
       "48935071798976*alpha^2 + 189175455636006*alpha + 68429177531699"
      ]
     },
     "execution_count": 46,
     "metadata": {},
     "output_type": "execute_result"
    }
   ],
   "source": [
    "u^22"
   ]
  },
  {
   "cell_type": "code",
   "execution_count": 48,
   "id": "e44eed1e",
   "metadata": {},
   "outputs": [
    {
     "data": {
      "text/plain": [
       "-5*alpha^2 - 21*alpha - 8"
      ]
     },
     "execution_count": 48,
     "metadata": {},
     "output_type": "execute_result"
    }
   ],
   "source": [
    "(u^3-1)/3"
   ]
  },
  {
   "cell_type": "code",
   "execution_count": 55,
   "id": "0cb821de",
   "metadata": {},
   "outputs": [
    {
     "data": {
      "text/plain": [
       "8335*alpha^2 - 27891*alpha - 12626"
      ]
     },
     "execution_count": 55,
     "metadata": {},
     "output_type": "execute_result"
    }
   ],
   "source": [
    "(u^9-1)/9"
   ]
  },
  {
   "cell_type": "code",
   "execution_count": 60,
   "id": "4487f209",
   "metadata": {},
   "outputs": [
    {
     "data": {
      "text/plain": [
       "9"
      ]
     },
     "execution_count": 60,
     "metadata": {},
     "output_type": "execute_result"
    }
   ],
   "source": [
    "(u^9)[2] % 27"
   ]
  },
  {
   "cell_type": "code",
   "execution_count": 69,
   "id": "ed0769fc",
   "metadata": {},
   "outputs": [
    {
     "name": "stdout",
     "output_type": "stream",
     "text": [
      "1 [0, 1]\n",
      "1 [0, 1]\n",
      "1 [0, 1]\n",
      "1 [0, 1]\n",
      "1 [0, 1]\n",
      "1 [0, 1]\n",
      "1 [0, 1]\n",
      "1 [0, 1]\n",
      "1 [0, 1]\n"
     ]
    }
   ],
   "source": [
    "for n in range(1,10):\n",
    "    print ((((u^(3^n))[0]-1)/3^n) % 3 , [((u^(3^n))[i]/3^n) % 3 for i in [1,2]])"
   ]
  },
  {
   "cell_type": "code",
   "execution_count": 64,
   "id": "94f101c2",
   "metadata": {},
   "outputs": [
    {
     "data": {
      "text/plain": [
       "5*alpha^2 + 13*alpha + 25"
      ]
     },
     "execution_count": 64,
     "metadata": {},
     "output_type": "execute_result"
    }
   ],
   "source": [
    "u^-1"
   ]
  },
  {
   "cell_type": "code",
   "execution_count": 65,
   "id": "45d0e002",
   "metadata": {},
   "outputs": [
    {
     "data": {
      "text/plain": [
       "-alpha^2 - 3*alpha - 1"
      ]
     },
     "execution_count": 65,
     "metadata": {},
     "output_type": "execute_result"
    }
   ],
   "source": [
    "u"
   ]
  },
  {
   "cell_type": "code",
   "execution_count": 66,
   "id": "e1431aff",
   "metadata": {},
   "outputs": [
    {
     "data": {
      "text/plain": [
       "1"
      ]
     },
     "execution_count": 66,
     "metadata": {},
     "output_type": "execute_result"
    }
   ],
   "source": [
    "u.norm()"
   ]
  },
  {
   "cell_type": "code",
   "execution_count": null,
   "id": "45170db3",
   "metadata": {},
   "outputs": [],
   "source": []
  }
 ],
 "metadata": {
  "kernelspec": {
   "display_name": "SageMath 9.5",
   "language": "sage",
   "name": "sagemath"
  },
  "language_info": {
   "codemirror_mode": {
    "name": "ipython",
    "version": 3
   },
   "file_extension": ".py",
   "mimetype": "text/x-python",
   "name": "python",
   "nbconvert_exporter": "python",
   "pygments_lexer": "ipython3",
   "version": "3.10.6"
  }
 },
 "nbformat": 4,
 "nbformat_minor": 5
}
